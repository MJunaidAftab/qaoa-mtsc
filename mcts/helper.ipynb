{
 "cells": [
  {
   "cell_type": "code",
   "execution_count": 1,
   "id": "99c3c8bd",
   "metadata": {},
   "outputs": [],
   "source": [
    "def add_value_to_dict(k, x):\n",
    "    if k in my_dict:\n",
    "        my_dict[k].append(x)\n",
    "    else:\n",
    "        my_dict[k] = [x]"
   ]
  },
  {
   "cell_type": "code",
   "execution_count": null,
   "id": "2dc5bd18",
   "metadata": {},
   "outputs": [],
   "source": []
  }
 ],
 "metadata": {
  "kernelspec": {
   "display_name": "Python 3",
   "language": "python",
   "name": "python3"
  },
  "language_info": {
   "codemirror_mode": {
    "name": "ipython",
    "version": 3
   },
   "file_extension": ".py",
   "mimetype": "text/x-python",
   "name": "python",
   "nbconvert_exporter": "python",
   "pygments_lexer": "ipython3",
   "version": "3.8.8"
  }
 },
 "nbformat": 4,
 "nbformat_minor": 5
}
