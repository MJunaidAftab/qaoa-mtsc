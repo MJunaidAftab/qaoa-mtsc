{
 "cells": [
  {
   "cell_type": "code",
   "execution_count": null,
   "id": "03d0e410",
   "metadata": {},
   "outputs": [],
   "source": [
    "import numpy as np\n",
    "import torch\n",
    "from torch import sin, cos, exp\n",
    "import math"
   ]
  },
  {
   "cell_type": "code",
   "execution_count": null,
   "id": "29c0b8ab",
   "metadata": {},
   "outputs": [],
   "source": [
    "unary_functions = [lambda x: 0*x**2,\n",
    "                   lambda x: 1+0*x**2,\n",
    "                   lambda x: x+0*x**2,\n",
    "                   lambda x: x**2,\n",
    "                   lambda x: x**3,\n",
    "                   lambda x: x**4,\n",
    "                   torch.exp,\n",
    "                   torch.sin,\n",
    "                   torch.cos,]\n",
    "\n",
    "binary_functions = [lambda x,y: x+y,\n",
    "                    lambda x,y: x*y,\n",
    "                    lambda x,y: x-y]\n",
    "\n",
    "\n",
    "unary_functions_str = ['({}*(0)+{})',\n",
    "                       '({}*(1)+{})',\n",
    "                       # '5',\n",
    "                       '({}*{}+{})',\n",
    "                       # '-{}',\n",
    "                       '({}*({})**2+{})',\n",
    "                       '({}*({})**3+{})',\n",
    "                       '({}*({})**4+{})',\n",
    "                       # '({})**5',\n",
    "                       '({}*exp({})+{})',\n",
    "                       '({}*sin({})+{})',\n",
    "                       '({}*cos({})+{})',]\n",
    "                       # 'ref({})',\n",
    "                       # 'exp(-({})**2/2)']\n",
    "\n",
    "unary_functions_str_leaf= ['(0)',\n",
    "                           '(1)',\n",
    "                           # '5',\n",
    "                           '({})',\n",
    "                           # '-{}',\n",
    "                           '(({})**2)',\n",
    "                           '(({})**3)',\n",
    "                           '(({})**4)',\n",
    "                           # '({})**5',\n",
    "                           '(exp({}))',\n",
    "                           '(sin({}))',\n",
    "                           '(cos({}))',]\n",
    "\n",
    "\n",
    "binary_functions_str = ['(({})+({}))',\n",
    "                        '(({})*({}))',\n",
    "                        '(({})-({}))']"
   ]
  }
 ],
 "metadata": {
  "kernelspec": {
   "display_name": "Python 3",
   "language": "python",
   "name": "python3"
  },
  "language_info": {
   "codemirror_mode": {
    "name": "ipython",
    "version": 3
   },
   "file_extension": ".py",
   "mimetype": "text/x-python",
   "name": "python",
   "nbconvert_exporter": "python",
   "pygments_lexer": "ipython3",
   "version": "3.8.8"
  }
 },
 "nbformat": 4,
 "nbformat_minor": 5
}
